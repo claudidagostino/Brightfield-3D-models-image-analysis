{
 "cells": [
  {
   "cell_type": "markdown",
   "id": "fe4cf71b-96ed-4c28-9f25-8de3fe3acdb7",
   "metadata": {},
   "source": [
    "# Organoid Batch Processing Workflow"
   ]
  },
  {
   "cell_type": "markdown",
   "id": "7a4bf24a-47e4-457e-bd59-d74a236517cb",
   "metadata": {},
   "source": [
    "This notebook runs the workflow demonstrated in [Single_image_workflow.ipynb](Single_image_workflow.ipynb) for all images in a specified folder.\n",
    "\n",
    "To run this notebook, you need to place all organoid images in a folder named `Organoids` under a `data` folder in the root of this repository (or adjust the path accordingly).\n",
    "\n",
    "Below is an exampe of the folder structure:\n",
    "\n",
    "```\n",
    "Brightfield-3D-models-image-analysis\n",
    "|\n",
    "├─ code\n",
    "|   |\n",
    "|   ⁞\n",
    "|   \n",
    "├─ data\n",
    "|   |\n",
    "⁞   ├─ Organoids\n",
    "    |    |\n",
    "    |    |\n",
    "    ⁞    ├─ Patient_1\n",
    "         |    |\n",
    "         |    ├─ Day_1\n",
    "         |    |    |\n",
    "         |    |    ├─ media1.tif\n",
    "         |    |    ├─ media2.tif\n",
    "         ⁞    ⁞    ⁞\n",
    "```\n",
    "\n",
    "The conda environment used for this notebook can be created following the instructions in the [README.md](README.md) file. Running this notebook took around 30 seconds in the machine described in the [README.md](README.md) file.\n",
    "\n",
    "## Import libraries"
   ]
  },
  {
   "cell_type": "code",
   "execution_count": null,
   "id": "c974e372-8407-42b6-8cf5-498296e36c8b",
   "metadata": {},
   "outputs": [],
   "source": [
    "import napari_simpleitk_image_processing as nsitk\n",
    "import pyclesperanto_prototype as cle\n",
    "\n",
    "from skimage.io import imread, imsave\n",
    "from pathlib import Path\n",
    "from napari_skimage_regionprops import regionprops_table\n",
    "\n",
    "import warnings\n",
    "warnings.filterwarnings(\"ignore\", category=UserWarning, module='skimage') # Ignore low resolution image warnings\n",
    "\n",
    "%load_ext watermark"
   ]
  },
  {
   "cell_type": "markdown",
   "id": "78111edf-e900-4b17-9451-47b0adfbfede",
   "metadata": {},
   "source": [
    "## Function with the workflow"
   ]
  },
  {
   "cell_type": "markdown",
   "id": "64ee3c93-8c98-4a25-aaf9-1b9fc29e20bd",
   "metadata": {},
   "source": [
    "Basically, this was created by copy-pasting, in the same order, each command from the workflow notebook.\n",
    "\n",
    "Then, a generic input argument `image_path` was provided and 2 return variables were added: `image8_eloe` (the final labeled image) and `table`.\n",
    "\n",
    "If you want to measure more things than just size, take a look at the arguments of the function `regionprops_table` and change them from `False` to `True`. For example, if you want shape measurements, provide an extra argument `shape=True,`."
   ]
  },
  {
   "cell_type": "code",
   "execution_count": 2,
   "id": "c8df7e3d-d71a-41fd-a003-991520a6e19e",
   "metadata": {},
   "outputs": [],
   "source": [
    "def workflow(image_path):\n",
    "\n",
    "    image0_O1 = imread(image_path)\n",
    "    \n",
    "    image1_L = nsitk.laplacian_of_gaussian_filter(image0_O1, 1.0)\n",
    "    \n",
    "    image2_S = nsitk.standard_deviation_filter(image1_L, 1, 1, 0)\n",
    "    \n",
    "    image3_to = cle.threshold_otsu(image2_S)\n",
    "    \n",
    "    image4_cl = cle.closing_labels(image3_to, None, 1.0)\n",
    "    \n",
    "    image5_B = nsitk.binary_fill_holes(image4_cl)\n",
    "    \n",
    "    image6_C = cle.label(image5_B)\n",
    "    \n",
    "    image7_esl = cle.exclude_small_labels(image6_C, None, 300.0)\n",
    "    \n",
    "    image8_eloe = cle.exclude_labels_on_edges(image7_esl)\n",
    "    \n",
    "    table = regionprops_table(\n",
    "        image0_O1,\n",
    "        image8_eloe,\n",
    "        size=True,\n",
    "        intensity=False,\n",
    "        napari_viewer=None,\n",
    "    )\n",
    "    \n",
    "    return image8_eloe, table"
   ]
  },
  {
   "cell_type": "markdown",
   "id": "e32e25ac-3f08-438b-9fea-cacbb112267e",
   "metadata": {},
   "source": [
    "## Path to the images"
   ]
  },
  {
   "cell_type": "markdown",
   "id": "c67218b0-4c01-4bf4-ad85-c47ae208fbe6",
   "metadata": {},
   "source": [
    "Please replace the path below to your local data folder."
   ]
  },
  {
   "cell_type": "code",
   "execution_count": 3,
   "id": "c048523f-419e-49b6-832e-222680f48158",
   "metadata": {},
   "outputs": [],
   "source": [
    "data_path =  Path(\"../../data/Organoids/\")"
   ]
  },
  {
   "cell_type": "markdown",
   "id": "4fc12172-8b74-4456-a2ac-f54462d4296b",
   "metadata": {},
   "source": [
    "Store image paths to a list of paths."
   ]
  },
  {
   "cell_type": "code",
   "execution_count": 4,
   "id": "1f347591-7f64-4719-9abe-9a0d79169539",
   "metadata": {},
   "outputs": [],
   "source": [
    "# Create empty list of paths\n",
    "image_path_list = []\n",
    "# iterate over folder path and its subfolders\n",
    "for path in data_path.glob('**/*.tif'):\n",
    "    # Append the path to the list\n",
    "    if not path.stem.endswith('_labels'):\n",
    "        # Only include images that end with 'O1.tif'\n",
    "        image_path_list += [path]"
   ]
  },
  {
   "cell_type": "markdown",
   "id": "77332b8c-d88c-460e-94e2-3a1294d636fd",
   "metadata": {},
   "source": [
    "Below we display the list of paths."
   ]
  },
  {
   "cell_type": "code",
   "execution_count": 5,
   "id": "5ca07b61-6a20-4b99-828b-d09a0868b6d1",
   "metadata": {},
   "outputs": [
    {
     "data": {
      "text/plain": [
       "[WindowsPath('../../data/Organoids/Patient_3/Day_1/Patient 3 organoids_B0687A93A16-5BE0-4369-AC91-702B557BBB1E.tif'),\n",
       " WindowsPath('../../data/Organoids/Patient_3/Day_1/Patient 3 organoids_B0821BF40DC-6E41-4C37-904D-4C977F259651.tif'),\n",
       " WindowsPath('../../data/Organoids/Patient_3/Day_1/Patient 3 organoids_B110E493636-B580-44C2-9154-49477C2626C6.tif'),\n",
       " WindowsPath('../../data/Organoids/Patient_3/Day_1/Patient 3 organoids_B137BAA72B6-2299-4D93-B63A-6E41B7976DA0.tif'),\n",
       " WindowsPath('../../data/Organoids/Patient_3/Day_1/Patient 3 organoids_B142FE4EB31-6F7C-4B07-9783-1C44FD2175A5.tif')]"
      ]
     },
     "execution_count": 5,
     "metadata": {},
     "output_type": "execute_result"
    }
   ],
   "source": [
    "image_path_list"
   ]
  },
  {
   "cell_type": "markdown",
   "id": "bf963b4e-985b-4fa1-96b4-84d50bc75020",
   "metadata": {},
   "source": [
    "## Batch Processing"
   ]
  },
  {
   "cell_type": "markdown",
   "id": "ff9881b8-193e-495a-babd-ec54302e1245",
   "metadata": {},
   "source": [
    "For each path in the list, read the image, apply the workflow and save the results in an \"Outputs\" folder.\n",
    "\n",
    "Labeled images and tables are saved inside the Outputs folder with the same name as the original image + \"\\_labels\" or \"\\_table\", respectively. "
   ]
  },
  {
   "cell_type": "code",
   "execution_count": 6,
   "id": "51da3355-cf58-494c-a009-1615218bb175",
   "metadata": {},
   "outputs": [],
   "source": [
    "# iterate over list of paths\n",
    "for image_path in image_path_list:\n",
    "    # applies workflow on image\n",
    "    label_image, table = workflow(image_path)\n",
    "    \n",
    "    # Create an empty \"Outputs\" folder (if not there already)\n",
    "    output_folder_path = Path(image_path.parent, 'Outputs')\n",
    "    output_folder_path.mkdir(exist_ok = True)\n",
    "    \n",
    "    # Create a \"image_labels.tif\" path\n",
    "    output_label_image_path = Path(output_folder_path, image_path.stem + '_labels.tif')\n",
    "    # Store the label_image in the created \"image_labels.tif\" path\n",
    "    imsave(output_label_image_path, label_image)\n",
    "    \n",
    "    # Create a \"image_table.csv\" path\n",
    "    output_table_path = Path(output_folder_path, image_path.stem + '_table.csv')\n",
    "    # Store the table in the created \"image_table.csv\" path\n",
    "    table.to_csv(output_table_path)"
   ]
  },
  {
   "cell_type": "markdown",
   "id": "91cd8735",
   "metadata": {},
   "source": [
    "## Version Information"
   ]
  },
  {
   "cell_type": "code",
   "execution_count": 7,
   "id": "b2ef7fbb-0082-4e78-a87c-6ed6d546a816",
   "metadata": {},
   "outputs": [
    {
     "name": "stdout",
     "output_type": "stream",
     "text": [
      "Python implementation: CPython\n",
      "Python version       : 3.13.5\n",
      "IPython version      : 9.4.0\n",
      "\n",
      "napari                           : 0.5.0\n",
      "numpy                            : 2.2.6\n",
      "pyclesperanto_prototype          : 0.24.4\n",
      "pandas                           : 2.2.3\n",
      "skimage                          : 0.25.1\n",
      "napari_simpleitk_image_processing: 0.4.9\n",
      "napari_skimage_regionprops       : 0.10.1\n",
      "\n",
      "Compiler    : MSC v.1943 64 bit (AMD64)\n",
      "OS          : Windows\n",
      "Release     : 10\n",
      "Machine     : AMD64\n",
      "Processor   : Intel64 Family 6 Model 165 Stepping 2, GenuineIntel\n",
      "CPU cores   : 16\n",
      "Architecture: 64bit\n",
      "\n",
      "GPU Info: \n",
      "  GPU 0: NVIDIA GeForce GTX 1650 Ti with Max-Q Design\n",
      "\n"
     ]
    }
   ],
   "source": [
    "%watermark -v -m --gpu -p napari,numpy,pyclesperanto_prototype,pandas,skimage,napari_simpleitk_image_processing,napari_skimage_regionprops"
   ]
  },
  {
   "cell_type": "code",
   "execution_count": null,
   "id": "ba8f8389",
   "metadata": {},
   "outputs": [],
   "source": []
  }
 ],
 "metadata": {
  "kernelspec": {
   "display_name": "brightfield-analysis-env",
   "language": "python",
   "name": "python3"
  },
  "language_info": {
   "codemirror_mode": {
    "name": "ipython",
    "version": 3
   },
   "file_extension": ".py",
   "mimetype": "text/x-python",
   "name": "python",
   "nbconvert_exporter": "python",
   "pygments_lexer": "ipython3",
   "version": "3.13.5"
  },
  "widgets": {
   "application/vnd.jupyter.widget-state+json": {
    "state": {},
    "version_major": 2,
    "version_minor": 0
   }
  }
 },
 "nbformat": 4,
 "nbformat_minor": 5
}
